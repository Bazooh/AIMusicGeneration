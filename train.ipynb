{
 "cells": [
  {
   "cell_type": "code",
   "execution_count": null,
   "metadata": {},
   "outputs": [],
   "source": [
    "from model import Transformer\n",
    "from dataset import Dataset, play\n",
    "import torch\n",
    "from tqdm import tqdm"
   ]
  },
  {
   "cell_type": "code",
   "execution_count": null,
   "metadata": {},
   "outputs": [],
   "source": [
    "device = torch.device(\"mps\")\n",
    "dataset = Dataset(device, min_partition_length=32)\n",
    "\n",
    "print(len(dataset))"
   ]
  },
  {
   "cell_type": "code",
   "execution_count": null,
   "metadata": {},
   "outputs": [],
   "source": [
    "print(vocab_size)"
   ]
  },
  {
   "cell_type": "code",
   "execution_count": null,
   "metadata": {},
   "outputs": [],
   "source": [
    "vocab_size = dataset.vocab_size\n",
    "\n",
    "print(vocab_size)\n",
    "\n",
    "context_size = 32\n",
    "n_embd = 256\n",
    "n_head = 4\n",
    "n_layer = 4\n",
    "dropout = 0.1\n",
    "\n",
    "lr = 3e-4\n",
    "epochs = 500\n",
    "batch_size = 512\n",
    "\n",
    "should_train = True\n",
    "\n",
    "model = Transformer(vocab_size, context_size, n_embd, n_head, n_layer, dropout).to(device)\n",
    "# model.load_state_dict(torch.load(\"model.pth\"))\n",
    "optimizer = torch.optim.Adam(model.parameters(), lr=lr)"
   ]
  },
  {
   "cell_type": "code",
   "execution_count": null,
   "metadata": {},
   "outputs": [],
   "source": [
    "@torch.no_grad()\n",
    "def compute_test_score(n_sample: int = 50, topk: int = 1):\n",
    "    model.eval()\n",
    "    batch = dataset.sample(n_sample, context_size, train=False)\n",
    "    predictions = model(batch[:, :-1])\n",
    "    test_loss = model.loss(predictions, batch[:, 1:])\n",
    "    test_accuracy = model.accuracy(predictions, batch[:, 1:], topk=topk)\n",
    "    model.train()\n",
    "    return test_loss, test_accuracy"
   ]
  },
  {
   "cell_type": "code",
   "execution_count": null,
   "metadata": {},
   "outputs": [],
   "source": [
    "def train(model):\n",
    "    pbar = tqdm(range(epochs))\n",
    "\n",
    "    for epoch in pbar:\n",
    "        batch = dataset.sample(batch_size, context_size, device)\n",
    "        optimizer.zero_grad()\n",
    "        \n",
    "        predictions = model(batch[:, :-1])\n",
    "        \n",
    "        loss = model.loss(predictions, batch[:, 1:])\n",
    "        accuracy = model.accuracy(predictions, batch[:, 1:])\n",
    "        loss.backward()\n",
    "        \n",
    "        optimizer.step()\n",
    "        \n",
    "        pbar.set_description(f\"Loss: {loss.item():.4f}, Accuracy: {accuracy.item():.4f}\")\n",
    "        \n",
    "        if epoch % 100 == 0:\n",
    "            test_loss, test_accuracy = compute_test_score(topk=3)\n",
    "            print(f\"Test Loss: {test_loss.item():.4f}, Test Accuracy: {test_accuracy.item():.4f}\")"
   ]
  },
  {
   "cell_type": "code",
   "execution_count": null,
   "metadata": {},
   "outputs": [],
   "source": [
    "if should_train:\n",
    "    train(model)\n",
    "    torch.save(model.state_dict(), 'model.pth')"
   ]
  },
  {
   "cell_type": "code",
   "execution_count": null,
   "metadata": {},
   "outputs": [],
   "source": [
    "partition = dataset.decode_partition(model.generate(100, temperature=1.0))\n",
    "play(partition)"
   ]
  }
 ],
 "metadata": {
  "kernelspec": {
   "display_name": "Python 3",
   "language": "python",
   "name": "python3"
  },
  "language_info": {
   "codemirror_mode": {
    "name": "ipython",
    "version": 3
   },
   "file_extension": ".py",
   "mimetype": "text/x-python",
   "name": "python",
   "nbconvert_exporter": "python",
   "pygments_lexer": "ipython3",
   "version": "3.10.13"
  }
 },
 "nbformat": 4,
 "nbformat_minor": 2
}
